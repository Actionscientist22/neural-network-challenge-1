{
  "cells": [
    {
      "cell_type": "markdown",
      "metadata": {
        "id": "T7ZNhGcW6q6r"
      },
      "source": [
        "# Student Loan Risk with Deep Learning"
      ]
    },
    {
      "cell_type": "code",
      "execution_count": 1,
      "metadata": {
        "id": "0otrXpJc6q6u"
      },
      "outputs": [],
      "source": [
        "# Imports\n",
        "import pandas as pd\n",
        "import tensorflow as tf\n",
        "from tensorflow.keras.layers import Dense\n",
        "from tensorflow.keras.models import Sequential\n",
        "from sklearn.model_selection import train_test_split\n",
        "from sklearn.preprocessing import StandardScaler\n",
        "from sklearn.metrics import classification_report\n",
        "from pathlib import Path"
      ]
    },
    {
      "cell_type": "markdown",
      "metadata": {
        "id": "OpV4Y-3Z6q6w"
      },
      "source": [
        "---\n",
        "\n",
        "## Prepare the data to be used on a neural network model"
      ]
    },
    {
      "cell_type": "markdown",
      "metadata": {
        "id": "TUuSzp2l6q6w"
      },
      "source": [
        "### Step 1: Read the `student-loans.csv` file into a Pandas DataFrame. Review the DataFrame, looking for columns that could eventually define your features and target variables.   "
      ]
    },
    {
      "cell_type": "code",
      "execution_count": 2,
      "metadata": {
        "colab": {
          "base_uri": "https://localhost:8080/",
          "height": 226
        },
        "id": "G65km1KD6q6x",
        "outputId": "93d12d8d-c415-4017-8452-5b4966e4dde5"
      },
      "outputs": [
        {
          "data": {
            "text/html": [
              "<div>\n",
              "<style scoped>\n",
              "    .dataframe tbody tr th:only-of-type {\n",
              "        vertical-align: middle;\n",
              "    }\n",
              "\n",
              "    .dataframe tbody tr th {\n",
              "        vertical-align: top;\n",
              "    }\n",
              "\n",
              "    .dataframe thead th {\n",
              "        text-align: right;\n",
              "    }\n",
              "</style>\n",
              "<table border=\"1\" class=\"dataframe\">\n",
              "  <thead>\n",
              "    <tr style=\"text-align: right;\">\n",
              "      <th></th>\n",
              "      <th>payment_history</th>\n",
              "      <th>location_parameter</th>\n",
              "      <th>stem_degree_score</th>\n",
              "      <th>gpa_ranking</th>\n",
              "      <th>alumni_success</th>\n",
              "      <th>study_major_code</th>\n",
              "      <th>time_to_completion</th>\n",
              "      <th>finance_workshop_score</th>\n",
              "      <th>cohort_ranking</th>\n",
              "      <th>total_loan_score</th>\n",
              "      <th>financial_aid_score</th>\n",
              "      <th>credit_ranking</th>\n",
              "    </tr>\n",
              "  </thead>\n",
              "  <tbody>\n",
              "    <tr>\n",
              "      <th>0</th>\n",
              "      <td>7.4</td>\n",
              "      <td>0.70</td>\n",
              "      <td>0.00</td>\n",
              "      <td>1.9</td>\n",
              "      <td>0.076</td>\n",
              "      <td>11.0</td>\n",
              "      <td>34.0</td>\n",
              "      <td>0.9978</td>\n",
              "      <td>3.51</td>\n",
              "      <td>0.56</td>\n",
              "      <td>9.4</td>\n",
              "      <td>0</td>\n",
              "    </tr>\n",
              "    <tr>\n",
              "      <th>1</th>\n",
              "      <td>7.8</td>\n",
              "      <td>0.88</td>\n",
              "      <td>0.00</td>\n",
              "      <td>2.6</td>\n",
              "      <td>0.098</td>\n",
              "      <td>25.0</td>\n",
              "      <td>67.0</td>\n",
              "      <td>0.9968</td>\n",
              "      <td>3.20</td>\n",
              "      <td>0.68</td>\n",
              "      <td>9.8</td>\n",
              "      <td>0</td>\n",
              "    </tr>\n",
              "    <tr>\n",
              "      <th>2</th>\n",
              "      <td>7.8</td>\n",
              "      <td>0.76</td>\n",
              "      <td>0.04</td>\n",
              "      <td>2.3</td>\n",
              "      <td>0.092</td>\n",
              "      <td>15.0</td>\n",
              "      <td>54.0</td>\n",
              "      <td>0.9970</td>\n",
              "      <td>3.26</td>\n",
              "      <td>0.65</td>\n",
              "      <td>9.8</td>\n",
              "      <td>0</td>\n",
              "    </tr>\n",
              "    <tr>\n",
              "      <th>3</th>\n",
              "      <td>11.2</td>\n",
              "      <td>0.28</td>\n",
              "      <td>0.56</td>\n",
              "      <td>1.9</td>\n",
              "      <td>0.075</td>\n",
              "      <td>17.0</td>\n",
              "      <td>60.0</td>\n",
              "      <td>0.9980</td>\n",
              "      <td>3.16</td>\n",
              "      <td>0.58</td>\n",
              "      <td>9.8</td>\n",
              "      <td>1</td>\n",
              "    </tr>\n",
              "    <tr>\n",
              "      <th>4</th>\n",
              "      <td>7.4</td>\n",
              "      <td>0.70</td>\n",
              "      <td>0.00</td>\n",
              "      <td>1.9</td>\n",
              "      <td>0.076</td>\n",
              "      <td>11.0</td>\n",
              "      <td>34.0</td>\n",
              "      <td>0.9978</td>\n",
              "      <td>3.51</td>\n",
              "      <td>0.56</td>\n",
              "      <td>9.4</td>\n",
              "      <td>0</td>\n",
              "    </tr>\n",
              "  </tbody>\n",
              "</table>\n",
              "</div>"
            ],
            "text/plain": [
              "   payment_history  location_parameter  stem_degree_score  gpa_ranking  \\\n",
              "0              7.4                0.70               0.00          1.9   \n",
              "1              7.8                0.88               0.00          2.6   \n",
              "2              7.8                0.76               0.04          2.3   \n",
              "3             11.2                0.28               0.56          1.9   \n",
              "4              7.4                0.70               0.00          1.9   \n",
              "\n",
              "   alumni_success  study_major_code  time_to_completion  \\\n",
              "0           0.076              11.0                34.0   \n",
              "1           0.098              25.0                67.0   \n",
              "2           0.092              15.0                54.0   \n",
              "3           0.075              17.0                60.0   \n",
              "4           0.076              11.0                34.0   \n",
              "\n",
              "   finance_workshop_score  cohort_ranking  total_loan_score  \\\n",
              "0                  0.9978            3.51              0.56   \n",
              "1                  0.9968            3.20              0.68   \n",
              "2                  0.9970            3.26              0.65   \n",
              "3                  0.9980            3.16              0.58   \n",
              "4                  0.9978            3.51              0.56   \n",
              "\n",
              "   financial_aid_score  credit_ranking  \n",
              "0                  9.4               0  \n",
              "1                  9.8               0  \n",
              "2                  9.8               0  \n",
              "3                  9.8               1  \n",
              "4                  9.4               0  "
            ]
          },
          "execution_count": 2,
          "metadata": {},
          "output_type": "execute_result"
        }
      ],
      "source": [
        "# Read the csv into a Pandas DataFrame\n",
        "file_path = \"https://static.bc-edx.com/ai/ail-v-1-0/m18/lms/datasets/student-loans.csv\"\n",
        "loans_df = pd.read_csv(file_path)\n",
        "\n",
        "# Review the DataFrame\n",
        "loans_df.head()"
      ]
    },
    {
      "cell_type": "code",
      "execution_count": 3,
      "metadata": {
        "colab": {
          "base_uri": "https://localhost:8080/"
        },
        "id": "K8ZYB8wx6q6x",
        "outputId": "b509fc34-4488-406e-e451-2069fec37371"
      },
      "outputs": [
        {
          "data": {
            "text/plain": [
              "payment_history           float64\n",
              "location_parameter        float64\n",
              "stem_degree_score         float64\n",
              "gpa_ranking               float64\n",
              "alumni_success            float64\n",
              "study_major_code          float64\n",
              "time_to_completion        float64\n",
              "finance_workshop_score    float64\n",
              "cohort_ranking            float64\n",
              "total_loan_score          float64\n",
              "financial_aid_score       float64\n",
              "credit_ranking              int64\n",
              "dtype: object"
            ]
          },
          "execution_count": 3,
          "metadata": {},
          "output_type": "execute_result"
        }
      ],
      "source": [
        "# Review the data types associated with the columns\n",
        "loans_df.dtypes"
      ]
    },
    {
      "cell_type": "code",
      "execution_count": 4,
      "metadata": {
        "colab": {
          "base_uri": "https://localhost:8080/"
        },
        "id": "9P8aX-dW75JO",
        "outputId": "63251fa8-5ac1-4112-c2f7-bc5d97ea8491"
      },
      "outputs": [
        {
          "data": {
            "text/plain": [
              "credit_ranking\n",
              "1    855\n",
              "0    744\n",
              "Name: count, dtype: int64"
            ]
          },
          "execution_count": 4,
          "metadata": {},
          "output_type": "execute_result"
        }
      ],
      "source": [
        "# Check the credit_ranking value counts\n",
        "loans_df[\"credit_ranking\"].value_counts()"
      ]
    },
    {
      "cell_type": "markdown",
      "metadata": {
        "id": "R6vbZeDH6q6y"
      },
      "source": [
        "### Step 2: Using the preprocessed data, create the features (`X`) and target (`y`) datasets. The target dataset should be defined by the preprocessed DataFrame column “credit_ranking”. The remaining columns should define the features dataset."
      ]
    },
    {
      "cell_type": "code",
      "execution_count": 5,
      "metadata": {
        "colab": {
          "base_uri": "https://localhost:8080/"
        },
        "id": "Q5eVAP5M6q6y",
        "outputId": "89728bbf-6930-4573-a126-9f1b66ed8859"
      },
      "outputs": [
        {
          "data": {
            "text/plain": [
              "0    0\n",
              "1    0\n",
              "2    0\n",
              "3    1\n",
              "4    0\n",
              "Name: credit_ranking, dtype: int64"
            ]
          },
          "execution_count": 5,
          "metadata": {},
          "output_type": "execute_result"
        }
      ],
      "source": [
        "# Define the target set y using the credit_ranking column\n",
        "y = loans_df['credit_ranking']\n",
        "\n",
        "# Display a sample of y\n",
        "y.head()"
      ]
    },
    {
      "cell_type": "code",
      "execution_count": 6,
      "metadata": {
        "colab": {
          "base_uri": "https://localhost:8080/",
          "height": 226
        },
        "id": "IIkrD2Sn6q6z",
        "outputId": "ce07c4a3-fb81-4657-d11e-ec85ae8554c9"
      },
      "outputs": [
        {
          "data": {
            "text/html": [
              "<div>\n",
              "<style scoped>\n",
              "    .dataframe tbody tr th:only-of-type {\n",
              "        vertical-align: middle;\n",
              "    }\n",
              "\n",
              "    .dataframe tbody tr th {\n",
              "        vertical-align: top;\n",
              "    }\n",
              "\n",
              "    .dataframe thead th {\n",
              "        text-align: right;\n",
              "    }\n",
              "</style>\n",
              "<table border=\"1\" class=\"dataframe\">\n",
              "  <thead>\n",
              "    <tr style=\"text-align: right;\">\n",
              "      <th></th>\n",
              "      <th>payment_history</th>\n",
              "      <th>location_parameter</th>\n",
              "      <th>stem_degree_score</th>\n",
              "      <th>gpa_ranking</th>\n",
              "      <th>alumni_success</th>\n",
              "      <th>study_major_code</th>\n",
              "      <th>time_to_completion</th>\n",
              "      <th>finance_workshop_score</th>\n",
              "      <th>cohort_ranking</th>\n",
              "      <th>total_loan_score</th>\n",
              "      <th>financial_aid_score</th>\n",
              "    </tr>\n",
              "  </thead>\n",
              "  <tbody>\n",
              "    <tr>\n",
              "      <th>0</th>\n",
              "      <td>7.4</td>\n",
              "      <td>0.70</td>\n",
              "      <td>0.00</td>\n",
              "      <td>1.9</td>\n",
              "      <td>0.076</td>\n",
              "      <td>11.0</td>\n",
              "      <td>34.0</td>\n",
              "      <td>0.9978</td>\n",
              "      <td>3.51</td>\n",
              "      <td>0.56</td>\n",
              "      <td>9.4</td>\n",
              "    </tr>\n",
              "    <tr>\n",
              "      <th>1</th>\n",
              "      <td>7.8</td>\n",
              "      <td>0.88</td>\n",
              "      <td>0.00</td>\n",
              "      <td>2.6</td>\n",
              "      <td>0.098</td>\n",
              "      <td>25.0</td>\n",
              "      <td>67.0</td>\n",
              "      <td>0.9968</td>\n",
              "      <td>3.20</td>\n",
              "      <td>0.68</td>\n",
              "      <td>9.8</td>\n",
              "    </tr>\n",
              "    <tr>\n",
              "      <th>2</th>\n",
              "      <td>7.8</td>\n",
              "      <td>0.76</td>\n",
              "      <td>0.04</td>\n",
              "      <td>2.3</td>\n",
              "      <td>0.092</td>\n",
              "      <td>15.0</td>\n",
              "      <td>54.0</td>\n",
              "      <td>0.9970</td>\n",
              "      <td>3.26</td>\n",
              "      <td>0.65</td>\n",
              "      <td>9.8</td>\n",
              "    </tr>\n",
              "    <tr>\n",
              "      <th>3</th>\n",
              "      <td>11.2</td>\n",
              "      <td>0.28</td>\n",
              "      <td>0.56</td>\n",
              "      <td>1.9</td>\n",
              "      <td>0.075</td>\n",
              "      <td>17.0</td>\n",
              "      <td>60.0</td>\n",
              "      <td>0.9980</td>\n",
              "      <td>3.16</td>\n",
              "      <td>0.58</td>\n",
              "      <td>9.8</td>\n",
              "    </tr>\n",
              "    <tr>\n",
              "      <th>4</th>\n",
              "      <td>7.4</td>\n",
              "      <td>0.70</td>\n",
              "      <td>0.00</td>\n",
              "      <td>1.9</td>\n",
              "      <td>0.076</td>\n",
              "      <td>11.0</td>\n",
              "      <td>34.0</td>\n",
              "      <td>0.9978</td>\n",
              "      <td>3.51</td>\n",
              "      <td>0.56</td>\n",
              "      <td>9.4</td>\n",
              "    </tr>\n",
              "  </tbody>\n",
              "</table>\n",
              "</div>"
            ],
            "text/plain": [
              "   payment_history  location_parameter  stem_degree_score  gpa_ranking  \\\n",
              "0              7.4                0.70               0.00          1.9   \n",
              "1              7.8                0.88               0.00          2.6   \n",
              "2              7.8                0.76               0.04          2.3   \n",
              "3             11.2                0.28               0.56          1.9   \n",
              "4              7.4                0.70               0.00          1.9   \n",
              "\n",
              "   alumni_success  study_major_code  time_to_completion  \\\n",
              "0           0.076              11.0                34.0   \n",
              "1           0.098              25.0                67.0   \n",
              "2           0.092              15.0                54.0   \n",
              "3           0.075              17.0                60.0   \n",
              "4           0.076              11.0                34.0   \n",
              "\n",
              "   finance_workshop_score  cohort_ranking  total_loan_score  \\\n",
              "0                  0.9978            3.51              0.56   \n",
              "1                  0.9968            3.20              0.68   \n",
              "2                  0.9970            3.26              0.65   \n",
              "3                  0.9980            3.16              0.58   \n",
              "4                  0.9978            3.51              0.56   \n",
              "\n",
              "   financial_aid_score  \n",
              "0                  9.4  \n",
              "1                  9.8  \n",
              "2                  9.8  \n",
              "3                  9.8  \n",
              "4                  9.4  "
            ]
          },
          "execution_count": 6,
          "metadata": {},
          "output_type": "execute_result"
        }
      ],
      "source": [
        "# Define features set X by selecting all columns but credit_ranking\n",
        "X = loans_df.drop('credit_ranking', axis=1)\n",
        "\n",
        "# Review the features DataFrame\n",
        "X.head()\n"
      ]
    },
    {
      "cell_type": "markdown",
      "metadata": {
        "id": "QmM9c-tj6q6z"
      },
      "source": [
        "### Step 3: Split the features and target sets into training and testing datasets.\n"
      ]
    },
    {
      "cell_type": "code",
      "execution_count": 7,
      "metadata": {
        "id": "OD7xwU_96q6z"
      },
      "outputs": [],
      "source": [
        "# Split the preprocessed data into a training and testing dataset\n",
        "# Assign the function a random_state equal to 1\n",
        "X_train, X_test, y_train, y_test = train_test_split(X, y, random_state=1)"
      ]
    },
    {
      "cell_type": "markdown",
      "metadata": {
        "id": "G9i6DHY06q6z"
      },
      "source": [
        "### Step 4: Use scikit-learn's `StandardScaler` to scale the features data."
      ]
    },
    {
      "cell_type": "code",
      "execution_count": 8,
      "metadata": {
        "id": "BzD3z20m6q6z"
      },
      "outputs": [],
      "source": [
        "# Create a StandardScaler instance\n",
        "scaler = StandardScaler().fit(X_train)\n",
        "\n",
        "# Fit the scaler to the features training dataset\n",
        "X_train_scaled = scaler.transform(X_train)\n",
        "\n",
        "# Fit the scaler to the features training dataset\n",
        "X_test_scaled = scaler.transform(X_test)"
      ]
    },
    {
      "cell_type": "markdown",
      "metadata": {
        "id": "CZzVDjba6q6z"
      },
      "source": [
        "---\n",
        "\n",
        "## Compile and Evaluate a Model Using a Neural Network"
      ]
    },
    {
      "cell_type": "markdown",
      "metadata": {
        "id": "m-pSux4Q6q60"
      },
      "source": [
        "### Step 1: Create a deep neural network by assigning the number of input features, the number of layers, and the number of neurons on each layer using Tensorflow’s Keras.\n",
        "\n",
        "> **Hint** You can start with a two-layer deep neural network model that uses the `relu` activation function for both layers.\n"
      ]
    },
    {
      "cell_type": "code",
      "execution_count": 9,
      "metadata": {
        "colab": {
          "base_uri": "https://localhost:8080/"
        },
        "id": "t5C94FCd6q60",
        "outputId": "cbf05783-2f56-4745-cd33-649a6152e510"
      },
      "outputs": [
        {
          "data": {
            "text/plain": [
              "11"
            ]
          },
          "execution_count": 9,
          "metadata": {},
          "output_type": "execute_result"
        }
      ],
      "source": [
        "# Define the the number of inputs (features) to the model\n",
        "number_of_features = X.shape[1]\n",
        "\n",
        "# Review the number of features\n",
        "number_of_features"
      ]
    },
    {
      "cell_type": "code",
      "execution_count": 10,
      "metadata": {
        "id": "c_KXDLkF6q60"
      },
      "outputs": [],
      "source": [
        "# Define the number of hidden nodes for the first hidden layer\n",
        "hidden_nodes_first_layer = 6\n",
        "\n",
        "# Define the number of hidden nodes for the second hidden layer\n",
        "hidden_nodes_first_layer = 5\n",
        "\n",
        "# Define the number of neurons in the output layer\n",
        "output_neurons = 1"
      ]
    },
    {
      "cell_type": "code",
      "execution_count": 13,
      "metadata": {
        "id": "63UdFncw6q60"
      },
      "outputs": [],
      "source": [
        "# Create the Sequential model instance\n",
        "nn_model = tf.keras.models.Sequential()\n",
        "\n",
        "# Add the first hidden layer\n",
        "nn_model.add(tf.keras.layers.Dense(units=6, activation=\"relu\", input_dim=number_of_features))\n",
        "\n",
        "# Add the second hidden layer\n",
        "nn_model.add(tf.keras.layers.Dense(units=3, activation=\"relu\"))\n",
        "\n",
        "# Add the output layer to the model specifying the number of output neurons and activation function\n",
        "nn_model.add(tf.keras.layers.Dense(units = 1, activation =\"sigmoid\"))"
      ]
    },
    {
      "cell_type": "code",
      "execution_count": 12,
      "metadata": {
        "colab": {
          "base_uri": "https://localhost:8080/"
        },
        "id": "-Beoh4f_6q61",
        "outputId": "2e50f810-086b-4d89-bf7d-98afbe0d649d"
      },
      "outputs": [
        {
          "name": "stdout",
          "output_type": "stream",
          "text": [
            "Model: \"sequential\"\n",
            "_________________________________________________________________\n",
            " Layer (type)                Output Shape              Param #   \n",
            "=================================================================\n",
            " dense (Dense)               (None, 6)                 72        \n",
            "                                                                 \n",
            " dense_1 (Dense)             (None, 6)                 42        \n",
            "                                                                 \n",
            " dense_2 (Dense)             (None, 1)                 7         \n",
            "                                                                 \n",
            "=================================================================\n",
            "Total params: 121 (484.00 Byte)\n",
            "Trainable params: 121 (484.00 Byte)\n",
            "Non-trainable params: 0 (0.00 Byte)\n",
            "_________________________________________________________________\n"
          ]
        }
      ],
      "source": [
        "# Display the Sequential model summary\n",
        "nn_model.summary()"
      ]
    },
    {
      "cell_type": "markdown",
      "metadata": {
        "id": "nRqWGIRo6q61"
      },
      "source": [
        "### Step 2: Compile and fit the model using the `binary_crossentropy` loss function, the `adam` optimizer, and the `accuracy` evaluation metric.\n"
      ]
    },
    {
      "cell_type": "code",
      "execution_count": 14,
      "metadata": {
        "id": "E-hZaeSn6q61"
      },
      "outputs": [],
      "source": [
        "# Compile the Sequential model\n",
        "nn_model.compile(loss=\"binary_crossentropy\", optimizer=\"adam\", metrics=[\"accuracy\"])"
      ]
    },
    {
      "cell_type": "code",
      "execution_count": 24,
      "metadata": {
        "colab": {
          "base_uri": "https://localhost:8080/"
        },
        "id": "x25e8Idc6q61",
        "outputId": "e95946ba-23da-47a3-a1c1-5e9a2a484a47"
      },
      "outputs": [
        {
          "name": "stdout",
          "output_type": "stream",
          "text": [
            "Epoch 1/50\n",
            "38/38 [==============================] - 0s 575us/step - loss: 0.5006 - accuracy: 0.7515\n",
            "Epoch 2/50\n",
            "38/38 [==============================] - 0s 518us/step - loss: 0.4993 - accuracy: 0.7523\n",
            "Epoch 3/50\n",
            "38/38 [==============================] - 0s 530us/step - loss: 0.4986 - accuracy: 0.7565\n",
            "Epoch 4/50\n",
            "38/38 [==============================] - 0s 589us/step - loss: 0.4986 - accuracy: 0.7556\n",
            "Epoch 5/50\n",
            "38/38 [==============================] - 0s 497us/step - loss: 0.4975 - accuracy: 0.7523\n",
            "Epoch 6/50\n",
            "38/38 [==============================] - 0s 491us/step - loss: 0.4972 - accuracy: 0.7556\n",
            "Epoch 7/50\n",
            "38/38 [==============================] - 0s 505us/step - loss: 0.4961 - accuracy: 0.7590\n",
            "Epoch 8/50\n",
            "38/38 [==============================] - 0s 498us/step - loss: 0.4962 - accuracy: 0.7573\n",
            "Epoch 9/50\n",
            "38/38 [==============================] - 0s 498us/step - loss: 0.4957 - accuracy: 0.7615\n",
            "Epoch 10/50\n",
            "38/38 [==============================] - 0s 511us/step - loss: 0.4947 - accuracy: 0.7631\n",
            "Epoch 11/50\n",
            "38/38 [==============================] - 0s 539us/step - loss: 0.4942 - accuracy: 0.7656\n",
            "Epoch 12/50\n",
            "38/38 [==============================] - 0s 540us/step - loss: 0.4933 - accuracy: 0.7640\n",
            "Epoch 13/50\n",
            "38/38 [==============================] - 0s 623us/step - loss: 0.4934 - accuracy: 0.7681\n",
            "Epoch 14/50\n",
            "38/38 [==============================] - 0s 560us/step - loss: 0.4926 - accuracy: 0.7631\n",
            "Epoch 15/50\n",
            "38/38 [==============================] - 0s 545us/step - loss: 0.4916 - accuracy: 0.7640\n",
            "Epoch 16/50\n",
            "38/38 [==============================] - 0s 576us/step - loss: 0.4916 - accuracy: 0.7665\n",
            "Epoch 17/50\n",
            "38/38 [==============================] - 0s 530us/step - loss: 0.4906 - accuracy: 0.7640\n",
            "Epoch 18/50\n",
            "38/38 [==============================] - 0s 572us/step - loss: 0.4905 - accuracy: 0.7681\n",
            "Epoch 19/50\n",
            "38/38 [==============================] - 0s 539us/step - loss: 0.4899 - accuracy: 0.7656\n",
            "Epoch 20/50\n",
            "38/38 [==============================] - 0s 531us/step - loss: 0.4893 - accuracy: 0.7673\n",
            "Epoch 21/50\n",
            "38/38 [==============================] - 0s 505us/step - loss: 0.4887 - accuracy: 0.7656\n",
            "Epoch 22/50\n",
            "38/38 [==============================] - 0s 502us/step - loss: 0.4884 - accuracy: 0.7648\n",
            "Epoch 23/50\n",
            "38/38 [==============================] - 0s 510us/step - loss: 0.4877 - accuracy: 0.7665\n",
            "Epoch 24/50\n",
            "38/38 [==============================] - 0s 542us/step - loss: 0.4870 - accuracy: 0.7698\n",
            "Epoch 25/50\n",
            "38/38 [==============================] - 0s 518us/step - loss: 0.4865 - accuracy: 0.7681\n",
            "Epoch 26/50\n",
            "38/38 [==============================] - 0s 489us/step - loss: 0.4865 - accuracy: 0.7690\n",
            "Epoch 27/50\n",
            "38/38 [==============================] - 0s 514us/step - loss: 0.4855 - accuracy: 0.7690\n",
            "Epoch 28/50\n",
            "38/38 [==============================] - 0s 497us/step - loss: 0.4846 - accuracy: 0.7681\n",
            "Epoch 29/50\n",
            "38/38 [==============================] - 0s 513us/step - loss: 0.4842 - accuracy: 0.7690\n",
            "Epoch 30/50\n",
            "38/38 [==============================] - 0s 514us/step - loss: 0.4833 - accuracy: 0.7681\n",
            "Epoch 31/50\n",
            "38/38 [==============================] - 0s 485us/step - loss: 0.4827 - accuracy: 0.7690\n",
            "Epoch 32/50\n",
            "38/38 [==============================] - 0s 505us/step - loss: 0.4829 - accuracy: 0.7706\n",
            "Epoch 33/50\n",
            "38/38 [==============================] - 0s 519us/step - loss: 0.4836 - accuracy: 0.7656\n",
            "Epoch 34/50\n",
            "38/38 [==============================] - 0s 559us/step - loss: 0.4821 - accuracy: 0.7698\n",
            "Epoch 35/50\n",
            "38/38 [==============================] - 0s 534us/step - loss: 0.4816 - accuracy: 0.7690\n",
            "Epoch 36/50\n",
            "38/38 [==============================] - 0s 504us/step - loss: 0.4810 - accuracy: 0.7665\n",
            "Epoch 37/50\n",
            "38/38 [==============================] - 0s 512us/step - loss: 0.4808 - accuracy: 0.7698\n",
            "Epoch 38/50\n",
            "38/38 [==============================] - 0s 516us/step - loss: 0.4803 - accuracy: 0.7690\n",
            "Epoch 39/50\n",
            "38/38 [==============================] - 0s 502us/step - loss: 0.4808 - accuracy: 0.7690\n",
            "Epoch 40/50\n",
            "38/38 [==============================] - 0s 476us/step - loss: 0.4801 - accuracy: 0.7690\n",
            "Epoch 41/50\n",
            "38/38 [==============================] - 0s 493us/step - loss: 0.4795 - accuracy: 0.7690\n",
            "Epoch 42/50\n",
            "38/38 [==============================] - 0s 478us/step - loss: 0.4791 - accuracy: 0.7673\n",
            "Epoch 43/50\n",
            "38/38 [==============================] - 0s 511us/step - loss: 0.4790 - accuracy: 0.7715\n",
            "Epoch 44/50\n",
            "38/38 [==============================] - 0s 527us/step - loss: 0.4785 - accuracy: 0.7706\n",
            "Epoch 45/50\n",
            "38/38 [==============================] - 0s 514us/step - loss: 0.4786 - accuracy: 0.7723\n",
            "Epoch 46/50\n",
            "38/38 [==============================] - 0s 517us/step - loss: 0.4783 - accuracy: 0.7723\n",
            "Epoch 47/50\n",
            "38/38 [==============================] - 0s 531us/step - loss: 0.4779 - accuracy: 0.7715\n",
            "Epoch 48/50\n",
            "38/38 [==============================] - 0s 549us/step - loss: 0.4774 - accuracy: 0.7715\n",
            "Epoch 49/50\n",
            "38/38 [==============================] - 0s 512us/step - loss: 0.4770 - accuracy: 0.7731\n",
            "Epoch 50/50\n",
            "38/38 [==============================] - 0s 524us/step - loss: 0.4766 - accuracy: 0.7706\n"
          ]
        }
      ],
      "source": [
        "# Fit the model using 50 epochs and the training data\n",
        "fit_model = nn_model.fit(X_train_scaled, y_train, epochs=50)"
      ]
    },
    {
      "cell_type": "markdown",
      "metadata": {
        "id": "RfHMPZVI6q61"
      },
      "source": [
        "### Step 3: Evaluate the model using the test data to determine the model’s loss and accuracy.\n"
      ]
    },
    {
      "cell_type": "code",
      "execution_count": 17,
      "metadata": {
        "colab": {
          "base_uri": "https://localhost:8080/"
        },
        "id": "5hfVADKo6q61",
        "outputId": "7df473ad-3301-4b49-e5c3-16e1687cc1cf"
      },
      "outputs": [
        {
          "name": "stdout",
          "output_type": "stream",
          "text": [
            "13/13 - 0s - loss: 0.5193 - accuracy: 0.7350 - 21ms/epoch - 2ms/step\n",
            "Loss: 0.5192583203315735, Accuracy: 0.7350000143051147\n"
          ]
        }
      ],
      "source": [
        "# Evaluate the model loss and accuracy metrics using the evaluate method and the test data\n",
        "model_loss, model_accuracy = nn_model.evaluate(X_test_scaled,y_test,verbose=2)\n",
        "\n",
        "# Display the model loss and accuracy results\n",
        "print(f\"Loss: {model_loss}, Accuracy: {model_accuracy}\")"
      ]
    },
    {
      "cell_type": "markdown",
      "metadata": {
        "id": "jpAv0rXA6q61"
      },
      "source": [
        "### Step 4: Save and export your model to a keras file, and name the file `student_loans.keras`.\n"
      ]
    },
    {
      "cell_type": "code",
      "execution_count": 18,
      "metadata": {
        "id": "q0MetN0W6q61"
      },
      "outputs": [],
      "source": [
        "# Set the model's file path\n",
        "file_path = Path(\"student_loans.keras\")\n",
        "\n",
        "# Export your model to a keras file\n",
        "nn_model.save(file_path)"
      ]
    },
    {
      "cell_type": "markdown",
      "metadata": {
        "id": "R1opCDdN6q61"
      },
      "source": [
        "---\n",
        "## Predict Loan Repayment Success by Using your Neural Network Model"
      ]
    },
    {
      "cell_type": "markdown",
      "metadata": {
        "id": "TfIfpeiy6q61"
      },
      "source": [
        "### Step 1: Reload your saved model."
      ]
    },
    {
      "cell_type": "code",
      "execution_count": 19,
      "metadata": {
        "id": "OCET2mvW6q61"
      },
      "outputs": [],
      "source": [
        "# Set the model's file path\n",
        "file_path = Path(\"student_loans.keras\")\n",
        "\n",
        "# Load the model to a new object\n",
        "nn_imported = tf.keras.models.load_model(file_path)"
      ]
    },
    {
      "cell_type": "markdown",
      "metadata": {
        "id": "rTPKooGw6q61"
      },
      "source": [
        "### Step 2: Make predictions on the testing data and save the predictions to a DataFrame."
      ]
    },
    {
      "cell_type": "code",
      "execution_count": 21,
      "metadata": {
        "colab": {
          "base_uri": "https://localhost:8080/"
        },
        "id": "Vet7qjgx6q62",
        "outputId": "0925af42-7e12-4978-8396-2a2c1580e1eb"
      },
      "outputs": [
        {
          "name": "stdout",
          "output_type": "stream",
          "text": [
            "13/13 - 0s - 18ms/epoch - 1ms/step\n"
          ]
        },
        {
          "data": {
            "text/plain": [
              "array([[0.527122  ],\n",
              "       [0.31152079],\n",
              "       [0.86394596],\n",
              "       [0.7175862 ],\n",
              "       [0.9324926 ],\n",
              "       [0.6164581 ],\n",
              "       [0.92682207],\n",
              "       [0.04548506],\n",
              "       [0.5601316 ],\n",
              "       [0.34461805],\n",
              "       [0.8420883 ],\n",
              "       [0.35331473],\n",
              "       [0.4116786 ],\n",
              "       [0.8857613 ],\n",
              "       [0.51703626],\n",
              "       [0.3652374 ],\n",
              "       [0.8446984 ],\n",
              "       [0.5145102 ],\n",
              "       [0.77325267],\n",
              "       [0.4843095 ],\n",
              "       [0.5717969 ],\n",
              "       [0.8792787 ],\n",
              "       [0.33588567],\n",
              "       [0.94898635],\n",
              "       [0.27283183],\n",
              "       [0.86412024],\n",
              "       [0.864575  ],\n",
              "       [0.60310024],\n",
              "       [0.19010937],\n",
              "       [0.22603363],\n",
              "       [0.36897355],\n",
              "       [0.95677966],\n",
              "       [0.16929895],\n",
              "       [0.9274056 ],\n",
              "       [0.09040418],\n",
              "       [0.6225155 ],\n",
              "       [0.3309305 ],\n",
              "       [0.33903465],\n",
              "       [0.8336334 ],\n",
              "       [0.3439046 ],\n",
              "       [0.8499424 ],\n",
              "       [0.0590381 ],\n",
              "       [0.15885594],\n",
              "       [0.8702171 ],\n",
              "       [0.08658257],\n",
              "       [0.74810266],\n",
              "       [0.2265577 ],\n",
              "       [0.27026886],\n",
              "       [0.33103782],\n",
              "       [0.8171237 ],\n",
              "       [0.09217104],\n",
              "       [0.27781323],\n",
              "       [0.94477165],\n",
              "       [0.05249413],\n",
              "       [0.21307863],\n",
              "       [0.64954674],\n",
              "       [0.9001663 ],\n",
              "       [0.8777753 ],\n",
              "       [0.5601316 ],\n",
              "       [0.21487506],\n",
              "       [0.88784766],\n",
              "       [0.24617176],\n",
              "       [0.33408183],\n",
              "       [0.29939693],\n",
              "       [0.02592054],\n",
              "       [0.40949127],\n",
              "       [0.81891006],\n",
              "       [0.6946209 ],\n",
              "       [0.61700445],\n",
              "       [0.96076095],\n",
              "       [0.09040418],\n",
              "       [0.81981444],\n",
              "       [0.5038286 ],\n",
              "       [0.62609106],\n",
              "       [0.42598167],\n",
              "       [0.40168425],\n",
              "       [0.92897594],\n",
              "       [0.19176579],\n",
              "       [0.2397392 ],\n",
              "       [0.6360657 ],\n",
              "       [0.8528471 ],\n",
              "       [0.10861154],\n",
              "       [0.0722724 ],\n",
              "       [0.40791723],\n",
              "       [0.61716634],\n",
              "       [0.08327669],\n",
              "       [0.13280827],\n",
              "       [0.92031884],\n",
              "       [0.39057994],\n",
              "       [0.7495485 ],\n",
              "       [0.08904101],\n",
              "       [0.88150537],\n",
              "       [0.19782957],\n",
              "       [0.9561709 ],\n",
              "       [0.7890804 ],\n",
              "       [0.20378216],\n",
              "       [0.8664973 ],\n",
              "       [0.4988739 ],\n",
              "       [0.09799387],\n",
              "       [0.8711952 ],\n",
              "       [0.53390163],\n",
              "       [0.463092  ],\n",
              "       [0.2714736 ],\n",
              "       [0.07809941],\n",
              "       [0.04634027],\n",
              "       [0.41832605],\n",
              "       [0.59982944],\n",
              "       [0.4316714 ],\n",
              "       [0.8861296 ],\n",
              "       [0.5357333 ],\n",
              "       [0.9601623 ],\n",
              "       [0.48689982],\n",
              "       [0.75300306],\n",
              "       [0.42719495],\n",
              "       [0.2492368 ],\n",
              "       [0.9786251 ],\n",
              "       [0.258385  ],\n",
              "       [0.08347005],\n",
              "       [0.26354975],\n",
              "       [0.27570942],\n",
              "       [0.16499713],\n",
              "       [0.9638841 ],\n",
              "       [0.8876159 ],\n",
              "       [0.37386167],\n",
              "       [0.39117113],\n",
              "       [0.4617246 ],\n",
              "       [0.8513315 ],\n",
              "       [0.21733424],\n",
              "       [0.5601316 ],\n",
              "       [0.6638412 ],\n",
              "       [0.37414578],\n",
              "       [0.2906862 ],\n",
              "       [0.9215763 ],\n",
              "       [0.10090756],\n",
              "       [0.83880824],\n",
              "       [0.72560346],\n",
              "       [0.30549288],\n",
              "       [0.9575623 ],\n",
              "       [0.2773248 ],\n",
              "       [0.3171607 ],\n",
              "       [0.34926352],\n",
              "       [0.4061833 ],\n",
              "       [0.48584765],\n",
              "       [0.3650451 ],\n",
              "       [0.81819445],\n",
              "       [0.8779248 ],\n",
              "       [0.5614378 ],\n",
              "       [0.07051208],\n",
              "       [0.72108495],\n",
              "       [0.7370415 ],\n",
              "       [0.49157855],\n",
              "       [0.91826797],\n",
              "       [0.2070462 ],\n",
              "       [0.30161825],\n",
              "       [0.86314225],\n",
              "       [0.9085445 ],\n",
              "       [0.9283874 ],\n",
              "       [0.92370754],\n",
              "       [0.80062133],\n",
              "       [0.29930848],\n",
              "       [0.8814867 ],\n",
              "       [0.6322595 ],\n",
              "       [0.30804962],\n",
              "       [0.12187584],\n",
              "       [0.958092  ],\n",
              "       [0.7579778 ],\n",
              "       [0.4146102 ],\n",
              "       [0.09050471],\n",
              "       [0.17959021],\n",
              "       [0.72739285],\n",
              "       [0.33133247],\n",
              "       [0.7988716 ],\n",
              "       [0.20440786],\n",
              "       [0.31530204],\n",
              "       [0.9570641 ],\n",
              "       [0.47899923],\n",
              "       [0.36138716],\n",
              "       [0.16381624],\n",
              "       [0.34072715],\n",
              "       [0.20378216],\n",
              "       [0.49525768],\n",
              "       [0.922528  ],\n",
              "       [0.5934488 ],\n",
              "       [0.39223206],\n",
              "       [0.89887285],\n",
              "       [0.95652795],\n",
              "       [0.8478645 ],\n",
              "       [0.44580007],\n",
              "       [0.33614346],\n",
              "       [0.1517699 ],\n",
              "       [0.50641286],\n",
              "       [0.5763976 ],\n",
              "       [0.37229055],\n",
              "       [0.2535866 ],\n",
              "       [0.8597354 ],\n",
              "       [0.34024173],\n",
              "       [0.5935242 ],\n",
              "       [0.5155793 ],\n",
              "       [0.36029863],\n",
              "       [0.25297636],\n",
              "       [0.90274423],\n",
              "       [0.52099043],\n",
              "       [0.8969365 ],\n",
              "       [0.1425478 ],\n",
              "       [0.96321106],\n",
              "       [0.83767813],\n",
              "       [0.27065235],\n",
              "       [0.07488529],\n",
              "       [0.87713253],\n",
              "       [0.7463897 ],\n",
              "       [0.25860783],\n",
              "       [0.7500776 ],\n",
              "       [0.2714736 ],\n",
              "       [0.9573649 ],\n",
              "       [0.16451426],\n",
              "       [0.18792993],\n",
              "       [0.28449184],\n",
              "       [0.02648103],\n",
              "       [0.81798464],\n",
              "       [0.47006655],\n",
              "       [0.65775853],\n",
              "       [0.26542404],\n",
              "       [0.31541768],\n",
              "       [0.2590805 ],\n",
              "       [0.79335403],\n",
              "       [0.5853046 ],\n",
              "       [0.35841218],\n",
              "       [0.6582001 ],\n",
              "       [0.9626508 ],\n",
              "       [0.4688895 ],\n",
              "       [0.4102248 ],\n",
              "       [0.31544784],\n",
              "       [0.8414599 ],\n",
              "       [0.8551385 ],\n",
              "       [0.35498556],\n",
              "       [0.03852963],\n",
              "       [0.9618998 ],\n",
              "       [0.2030123 ],\n",
              "       [0.51719964],\n",
              "       [0.4264917 ],\n",
              "       [0.8385099 ],\n",
              "       [0.8816371 ],\n",
              "       [0.5584781 ],\n",
              "       [0.42592865],\n",
              "       [0.52505606],\n",
              "       [0.9568392 ],\n",
              "       [0.6257496 ],\n",
              "       [0.3316724 ],\n",
              "       [0.15264596],\n",
              "       [0.23919043],\n",
              "       [0.15366167],\n",
              "       [0.31213507],\n",
              "       [0.9499363 ],\n",
              "       [0.7937976 ],\n",
              "       [0.8890627 ],\n",
              "       [0.31069154],\n",
              "       [0.13107343],\n",
              "       [0.20948221],\n",
              "       [0.12189921],\n",
              "       [0.6329493 ],\n",
              "       [0.88175267],\n",
              "       [0.3466368 ],\n",
              "       [0.5863127 ],\n",
              "       [0.35913232],\n",
              "       [0.26119736],\n",
              "       [0.72108495],\n",
              "       [0.55313706],\n",
              "       [0.17237583],\n",
              "       [0.11449441],\n",
              "       [0.93705684],\n",
              "       [0.18409912],\n",
              "       [0.6959415 ],\n",
              "       [0.13073008],\n",
              "       [0.9546348 ],\n",
              "       [0.18128243],\n",
              "       [0.59433067],\n",
              "       [0.25328645],\n",
              "       [0.7988716 ],\n",
              "       [0.44816208],\n",
              "       [0.24029864],\n",
              "       [0.98042756],\n",
              "       [0.6566218 ],\n",
              "       [0.5601316 ],\n",
              "       [0.06260882],\n",
              "       [0.30008787],\n",
              "       [0.8385512 ],\n",
              "       [0.29638836],\n",
              "       [0.29339737],\n",
              "       [0.16096826],\n",
              "       [0.66330343],\n",
              "       [0.5081482 ],\n",
              "       [0.8446984 ],\n",
              "       [0.6468224 ],\n",
              "       [0.42759112],\n",
              "       [0.8209915 ],\n",
              "       [0.9013674 ],\n",
              "       [0.21657027],\n",
              "       [0.9111558 ],\n",
              "       [0.16430326],\n",
              "       [0.27168536],\n",
              "       [0.6619123 ],\n",
              "       [0.79156977],\n",
              "       [0.06964664],\n",
              "       [0.73515266],\n",
              "       [0.39321008],\n",
              "       [0.44347402],\n",
              "       [0.11182341],\n",
              "       [0.901212  ],\n",
              "       [0.46447513],\n",
              "       [0.03000198],\n",
              "       [0.3579313 ],\n",
              "       [0.6799773 ],\n",
              "       [0.35197508],\n",
              "       [0.81444126],\n",
              "       [0.6760788 ],\n",
              "       [0.6988251 ],\n",
              "       [0.17871764],\n",
              "       [0.36271834],\n",
              "       [0.91090065],\n",
              "       [0.9618998 ],\n",
              "       [0.4060431 ],\n",
              "       [0.3830875 ],\n",
              "       [0.9602195 ],\n",
              "       [0.20980112],\n",
              "       [0.34024173],\n",
              "       [0.27522933],\n",
              "       [0.1844423 ],\n",
              "       [0.97985005],\n",
              "       [0.71511394],\n",
              "       [0.46478498],\n",
              "       [0.84373313],\n",
              "       [0.13930231],\n",
              "       [0.29976884],\n",
              "       [0.51463395],\n",
              "       [0.49013582],\n",
              "       [0.17989735],\n",
              "       [0.87806374],\n",
              "       [0.9573649 ],\n",
              "       [0.21925637],\n",
              "       [0.41290718],\n",
              "       [0.19263476],\n",
              "       [0.2439526 ],\n",
              "       [0.6258692 ],\n",
              "       [0.62852436],\n",
              "       [0.41291517],\n",
              "       [0.96868795],\n",
              "       [0.5601316 ],\n",
              "       [0.20437837],\n",
              "       [0.2629772 ],\n",
              "       [0.41068304],\n",
              "       [0.7500776 ],\n",
              "       [0.94655126],\n",
              "       [0.56770647],\n",
              "       [0.5601316 ],\n",
              "       [0.56136984],\n",
              "       [0.41484976],\n",
              "       [0.9771458 ],\n",
              "       [0.8857613 ],\n",
              "       [0.30549288],\n",
              "       [0.06867987],\n",
              "       [0.14279169],\n",
              "       [0.85336554],\n",
              "       [0.2275355 ],\n",
              "       [0.9584279 ],\n",
              "       [0.2452227 ],\n",
              "       [0.19051717],\n",
              "       [0.3439272 ],\n",
              "       [0.26161474],\n",
              "       [0.72167724],\n",
              "       [0.03852963],\n",
              "       [0.50157   ],\n",
              "       [0.4900237 ],\n",
              "       [0.35622835],\n",
              "       [0.34096318],\n",
              "       [0.18617526],\n",
              "       [0.69882023],\n",
              "       [0.98460984],\n",
              "       [0.9658455 ],\n",
              "       [0.18792993],\n",
              "       [0.85375214],\n",
              "       [0.9314417 ],\n",
              "       [0.66586107],\n",
              "       [0.92140514],\n",
              "       [0.75103885],\n",
              "       [0.43882796],\n",
              "       [0.9347877 ],\n",
              "       [0.02275882],\n",
              "       [0.6027389 ],\n",
              "       [0.79604614],\n",
              "       [0.45481056],\n",
              "       [0.31786728],\n",
              "       [0.595326  ],\n",
              "       [0.33105898],\n",
              "       [0.7840698 ],\n",
              "       [0.20510791],\n",
              "       [0.79912996],\n",
              "       [0.39057994],\n",
              "       [0.8414599 ],\n",
              "       [0.33971748],\n",
              "       [0.76544523]], dtype=float32)"
            ]
          },
          "execution_count": 21,
          "metadata": {},
          "output_type": "execute_result"
        }
      ],
      "source": [
        "# Make predictions with the test data\n",
        "predictions = nn_model.predict(X_test_scaled,verbose=2)\n",
        "\n",
        "# Display a sample of the predictions\n",
        "predictions"
      ]
    },
    {
      "cell_type": "code",
      "execution_count": 23,
      "metadata": {
        "colab": {
          "base_uri": "https://localhost:8080/",
          "height": 424
        },
        "id": "87o8exFPhjfl",
        "outputId": "da5339c5-cea7-43e4-ec22-e168ea16dfa2"
      },
      "outputs": [
        {
          "data": {
            "text/html": [
              "<div>\n",
              "<style scoped>\n",
              "    .dataframe tbody tr th:only-of-type {\n",
              "        vertical-align: middle;\n",
              "    }\n",
              "\n",
              "    .dataframe tbody tr th {\n",
              "        vertical-align: top;\n",
              "    }\n",
              "\n",
              "    .dataframe thead th {\n",
              "        text-align: right;\n",
              "    }\n",
              "</style>\n",
              "<table border=\"1\" class=\"dataframe\">\n",
              "  <thead>\n",
              "    <tr style=\"text-align: right;\">\n",
              "      <th></th>\n",
              "      <th>predictions</th>\n",
              "    </tr>\n",
              "  </thead>\n",
              "  <tbody>\n",
              "    <tr>\n",
              "      <th>0</th>\n",
              "      <td>1.0</td>\n",
              "    </tr>\n",
              "    <tr>\n",
              "      <th>1</th>\n",
              "      <td>0.0</td>\n",
              "    </tr>\n",
              "    <tr>\n",
              "      <th>2</th>\n",
              "      <td>1.0</td>\n",
              "    </tr>\n",
              "    <tr>\n",
              "      <th>3</th>\n",
              "      <td>1.0</td>\n",
              "    </tr>\n",
              "    <tr>\n",
              "      <th>4</th>\n",
              "      <td>1.0</td>\n",
              "    </tr>\n",
              "    <tr>\n",
              "      <th>...</th>\n",
              "      <td>...</td>\n",
              "    </tr>\n",
              "    <tr>\n",
              "      <th>395</th>\n",
              "      <td>1.0</td>\n",
              "    </tr>\n",
              "    <tr>\n",
              "      <th>396</th>\n",
              "      <td>0.0</td>\n",
              "    </tr>\n",
              "    <tr>\n",
              "      <th>397</th>\n",
              "      <td>1.0</td>\n",
              "    </tr>\n",
              "    <tr>\n",
              "      <th>398</th>\n",
              "      <td>0.0</td>\n",
              "    </tr>\n",
              "    <tr>\n",
              "      <th>399</th>\n",
              "      <td>1.0</td>\n",
              "    </tr>\n",
              "  </tbody>\n",
              "</table>\n",
              "<p>400 rows × 1 columns</p>\n",
              "</div>"
            ],
            "text/plain": [
              "     predictions\n",
              "0            1.0\n",
              "1            0.0\n",
              "2            1.0\n",
              "3            1.0\n",
              "4            1.0\n",
              "..           ...\n",
              "395          1.0\n",
              "396          0.0\n",
              "397          1.0\n",
              "398          0.0\n",
              "399          1.0\n",
              "\n",
              "[400 rows x 1 columns]"
            ]
          },
          "execution_count": 23,
          "metadata": {},
          "output_type": "execute_result"
        }
      ],
      "source": [
        "# Save the predictions to a DataFrame and round the predictions to binary results\n",
        "predictions_df = pd.DataFrame(columns=[\"predictions\"], data=predictions)\n",
        "predictions_df[\"predictions\"] = round(predictions_df[\"predictions\"],0)\n",
        "predictions_df"
      ]
    },
    {
      "cell_type": "markdown",
      "metadata": {
        "id": "oxxLwycg6q62"
      },
      "source": [
        "### Step 4: Display a classification report with the y test data and predictions"
      ]
    },
    {
      "cell_type": "code",
      "execution_count": 26,
      "metadata": {
        "colab": {
          "base_uri": "https://localhost:8080/"
        },
        "id": "UTxYZibW6q67",
        "outputId": "f341b396-9b4c-478c-dba8-f6d904ba10e3"
      },
      "outputs": [
        {
          "name": "stdout",
          "output_type": "stream",
          "text": [
            "              precision    recall  f1-score   support\n",
            "\n",
            "           0       0.70      0.77      0.73       188\n",
            "           1       0.78      0.70      0.74       212\n",
            "\n",
            "    accuracy                           0.73       400\n",
            "   macro avg       0.74      0.74      0.73       400\n",
            "weighted avg       0.74      0.73      0.74       400\n",
            "\n"
          ]
        }
      ],
      "source": [
        "# Print the classification report with the y test data and predictions\n",
        "print(classification_report(y_test, predictions_df[\"predictions\"].values))"
      ]
    },
    {
      "cell_type": "markdown",
      "metadata": {
        "id": "8Aaof1tBtcp6"
      },
      "source": [
        "---\n",
        "## Discuss creating a recommendation system for student loans"
      ]
    },
    {
      "cell_type": "markdown",
      "metadata": {
        "id": "_CC8cNpNtcp6"
      },
      "source": [
        "Briefly answer the following questions in the space provided:\n",
        "\n",
        "1. Describe the data that you would need to collect to build a recommendation system to recommend student loan options for students. Explain why this data would be relevant and appropriate.\n",
        "\n",
        "2. Based on the data you chose to use in this recommendation system, would your model be using collaborative filtering, content-based filtering, or context-based filtering? Justify why the data you selected would be suitable for your choice of filtering method.\n",
        "\n",
        "3. Describe two real-world challenges that you would take into consideration while building a recommendation system for student loans. Explain why these challenges would be of concern for a student loan recommendation system."
      ]
    },
    {
      "cell_type": "markdown",
      "metadata": {
        "id": "5KqIT8kYtcp6"
      },
      "source": [
        "**1. Describe the data that you would need to collect to build a recommendation system to recommend student loan options for students. Explain why this data would be relevant and appropriate.**\n",
        "You'd need to collect information like age, current income, if they have a guarentor, if they have loans already. This information would give you some insight into their financial stability in as much way as you can without an established credit card history.\n",
        "\n",
        "**2. Based on the data you chose to use in this recommendation system, would your model be using collaborative filtering, content-based filtering, or context-based filtering? Justify why the data you selected would be suitable for your choice of filtering method.**\n",
        "Content filtering would be best as you are looking at the specific student and their specific situation however you could also use context filtering by matching them with previous applicants. \n",
        "\n",
        "**3. Describe two real-world challenges that you would take into consideration while building a recommendation system for student loans. Explain why these challenges would be of concern for a student loan recommendation system.**\n",
        "Because they are typically just graduating high school and have a limited credit history there just isn't the greatest amount of data that you can course to model. The availability of this data also is not reliable (or possibly legal) and also would be a stumling block in this regard. \n"
      ]
    }
  ],
  "metadata": {
    "colab": {
      "provenance": []
    },
    "kernelspec": {
      "display_name": "Python 3 (ipykernel)",
      "language": "python",
      "name": "python3"
    },
    "language_info": {
      "codemirror_mode": {
        "name": "ipython",
        "version": 3
      },
      "file_extension": ".py",
      "mimetype": "text/x-python",
      "name": "python",
      "nbconvert_exporter": "python",
      "pygments_lexer": "ipython3",
      "version": "3.11.5"
    }
  },
  "nbformat": 4,
  "nbformat_minor": 0
}
